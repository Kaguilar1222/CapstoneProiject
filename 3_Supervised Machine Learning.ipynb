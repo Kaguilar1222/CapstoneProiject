{
 "cells": [
  {
   "cell_type": "markdown",
   "metadata": {},
   "source": [
    "## Introduction to Supervised Modeling for Shakespeare/Non-Shakespeare Classification\n",
    "\n",
    "In this notebook I am proceed with classification techniques in order to label plays as Shakespeare or not Shakespeare, performing an authorship attribution task. "
   ]
  },
  {
   "cell_type": "code",
   "execution_count": 1,
   "metadata": {
    "ExecuteTime": {
     "start_time": "2020-06-09T20:26:11.976Z"
    }
   },
   "outputs": [
    {
     "name": "stderr",
     "output_type": "stream",
     "text": [
      "Using TensorFlow backend.\n"
     ]
    }
   ],
   "source": [
    "# importing libraries for importing files, modeling, storing model performance\n",
    "import pandas as pd\n",
    "import numpy as np\n",
    "import matplotlib.pyplot as plt\n",
    "%matplotlib inline\n",
    "\n",
    "import pickle\n",
    "\n",
    "from gensim.models import word2vec\n",
    "\n",
    "from sklearn.ensemble import RandomForestClassifier\n",
    "from sklearn.naive_bayes import MultinomialNB, ComplementNB\n",
    "from sklearn.svm import SVC, LinearSVC\n",
    "from sklearn.feature_extraction.text import TfidfVectorizer\n",
    "from sklearn.metrics import roc_curve, f1_score, confusion_matrix,\\\n",
    "        accuracy_score, precision_score, recall_score, classification_report\n",
    "from sklearn.model_selection import GridSearchCV, cross_val_score\n",
    "\n",
    "import scikitplot as skplt\n",
    "from scikitplot.metrics import plot_roc_curve\n",
    "\n",
    "from sklearn.pipeline import Pipeline\n",
    "\n",
    "import xgboost as xgb\n",
    "\n",
    "from keras.preprocessing.sequence import pad_sequences\n",
    "from keras.layers import Input, Dense, LSTM, Embedding, GRU\n",
    "from keras.layers import Dropout, Activation, GlobalMaxPool1D\n",
    "from keras.models import Sequential, load_model\n",
    "from keras import initializers, regularizers, constraints, optimizers, layers\n",
    "from keras.preprocessing import text, sequence\n",
    "from keras.callbacks import EarlyStopping, ModelCheckpoint\n",
    "\n",
    "import random\n",
    "np.random.seed(0)\n",
    "\n",
    "import warnings \n",
    "warnings.filterwarnings('ignore')"
   ]
  },
  {
   "cell_type": "code",
   "execution_count": 2,
   "metadata": {
    "ExecuteTime": {
     "end_time": "2020-06-09T14:42:06.830058Z",
     "start_time": "2020-06-09T14:42:06.600049Z"
    }
   },
   "outputs": [],
   "source": [
    "# importing data from pickle files\n",
    "with open('data/pickle_jar.pickle', 'rb') as f:\n",
    "    pickle_jar = pickle.load(f)\n",
    "    \n",
    "X_train = pickle_jar[0]\n",
    "X_test = pickle_jar[1]\n",
    "y_train = pickle_jar[2]\n",
    "y_test = pickle_jar[3]\n",
    "X_train_50 = pickle_jar[4]\n",
    "X_test_50 = pickle_jar[5]\n",
    "X_train_ngrams = pickle_jar[6]\n",
    "X_test_ngrams = pickle_jar[7]\n",
    "train_lemmatized = pickle_jar[8]\n",
    "test_lemmatized = pickle_jar[9]\n",
    "train_tokens = pickle_jar[10]\n",
    "test_tokens = pickle_jar[11]"
   ]
  },
  {
   "cell_type": "code",
   "execution_count": 3,
   "metadata": {
    "ExecuteTime": {
     "end_time": "2020-06-09T14:42:16.448421Z",
     "start_time": "2020-06-09T14:42:16.442092Z"
    }
   },
   "outputs": [],
   "source": [
    "# creating lists to evaluate model performance\n",
    "model_names = []\n",
    "f1_list = []\n",
    "accuracy_list = []\n",
    "precision_list = []\n",
    "recall_list = []\n",
    "\n",
    "def evaluate_performance(y_true, y_pred, model_name):\n",
    "    # adding performance metrics to lists\n",
    "    model_names.append(model_name)\n",
    "    f1_list.append(round(f1_score(y_true, y_pred), 4))\n",
    "    accuracy_list.append(round(accuracy_score(y_true, y_pred), 4))\n",
    "    precision_list.append(round(precision_score(y_true, y_pred), 4))\n",
    "    recall_list.append(round(recall_score(y_true, y_pred), 4))\n",
    "\n",
    "    # printing performance metrics\n",
    "    print(classification_report(y_true, y_pred, target_names=['Not Shakespeare', 'Shakespeare']))"
   ]
  },
  {
   "cell_type": "markdown",
   "metadata": {},
   "source": [
    "## Creating Vector Representations using GloVe\n",
    "\n",
    "I am also generating one last representation of my data using Global Vectors for Word Representation (GloVe). This generates a vector for each word in our corpus, and places similar words close together. I want to make the weights usable with sklearn. The GloVe 6B data is available at [NLP Stanford](https://nlp.stanford.edu/projects/glove/). These weights are trained on 6B tokens with a 400K vocab. Each vector size is 300 dimensions."
   ]
  },
  {
   "cell_type": "code",
   "execution_count": 4,
   "metadata": {
    "ExecuteTime": {
     "end_time": "2020-06-09T19:20:02.759470Z",
     "start_time": "2020-06-09T19:20:00.292041Z"
    }
   },
   "outputs": [],
   "source": [
    "# importing GloVe weights for words in our vocabulary into dictionary\n",
    "total_vocabulary = set(word for play in train_tokens for word in play)\n",
    "\n",
    "embeddings_index = {}\n",
    "with open('glove.6B/glove.6B.300d.txt', 'rb') as f:\n",
    "    for line in f:\n",
    "        parts = line.split()\n",
    "        word = parts[0].decode('utf-8')\n",
    "        if word in total_vocabulary:\n",
    "            vector = np.array(parts[1:], dtype=np.float32)\n",
    "            embeddings_index[word] = vector\n",
    "            \n",
    "class W2vVectorizer(object):\n",
    "    \n",
    "    def __init__(self, w2v):\n",
    "        # Takes in a dictionary of words and vectors as input\n",
    "        self.w2v = w2v\n",
    "        if len(w2v) == 0:\n",
    "            self.dimensions = 0\n",
    "        else:\n",
    "            self.dimensions = len(w2v[next(iter(embeddings_index))])\n",
    "    \n",
    "# make class usable with sklearn pipeline\n",
    "    def fit(self, X, y):\n",
    "        return self\n",
    "            \n",
    "    def transform(self, X):\n",
    "        return np.array([\n",
    "            np.mean([self.w2v[w] for w in words if w in self.w2v]\n",
    "                   or [np.zeros(self.dimensions)], axis=0) for words in X])"
   ]
  },
  {
   "cell_type": "markdown",
   "metadata": {},
   "source": [
    "## Creating GloVe Sequences that can be used with RNN"
   ]
  },
  {
   "cell_type": "code",
   "execution_count": 5,
   "metadata": {},
   "outputs": [],
   "source": [
    "# using Keras to create sequences for use with RNN\n",
    "tokenizer = text.Tokenizer(num_words=20000)\n",
    "tokenizer.fit_on_texts(train_lemmatized)\n",
    "word_index = tokenizer.word_index\n",
    "\n",
    "train_tokenized = tokenizer.texts_to_sequences(train_lemmatized)\n",
    "train_sequences = sequence.pad_sequences(train_tokenized, maxlen=100)\n",
    "\n",
    "test_tokenized = tokenizer.texts_to_sequences(test_lemmatized)\n",
    "test_sequences = sequence.pad_sequences(test_tokenized, maxlen=100)"
   ]
  },
  {
   "cell_type": "code",
   "execution_count": 6,
   "metadata": {},
   "outputs": [],
   "source": [
    "# creating a weight matrix for our vocabulary\n",
    "embedding_matrix = np.zeros((len(word_index) + 1, 300))\n",
    "for word, i in word_index.items():\n",
    "    if i >= 20000:\n",
    "        continue\n",
    "    embedding_vector = embeddings_index.get(word)\n",
    "    if embedding_vector is not None:\n",
    "        embedding_matrix[i] = embedding_vector"
   ]
  },
  {
   "cell_type": "markdown",
   "metadata": {},
   "source": [
    "# Random Forest \n",
    "\n",
    "I am first using a Random Forest model with a GridSearch to identify the best hyperparameters. A Random Forest is an ensemble model composed of Decision Trees(a single classifier that uses a tree-like structure to sort data, resulting in a classification decision at each terminal node). I am initializing the model with 100 trees and using cross validation to reduce the chance of overfitting the model. For this first model I am using all three vecetor representations of my data.\n",
    "\n",
    "## Using Full TF-IDF"
   ]
  },
  {
   "cell_type": "code",
   "execution_count": 7,
   "metadata": {
    "ExecuteTime": {
     "end_time": "2020-06-09T14:43:53.782945Z",
     "start_time": "2020-06-09T14:42:32.530903Z"
    },
    "scrolled": false
   },
   "outputs": [
    {
     "name": "stdout",
     "output_type": "stream",
     "text": [
      "Accuracy Score for Training Data: 1.0\n",
      "                 precision    recall  f1-score   support\n",
      "\n",
      "Not Shakespeare       0.90      1.00      0.95         9\n",
      "    Shakespeare       1.00      0.89      0.94         9\n",
      "\n",
      "       accuracy                           0.94        18\n",
      "      macro avg       0.95      0.94      0.94        18\n",
      "   weighted avg       0.95      0.94      0.94        18\n",
      "\n"
     ]
    }
   ],
   "source": [
    "# creating Random Forest with 100 \"trees\"\n",
    "rf_classifier = RandomForestClassifier(n_estimators=100)\n",
    "\n",
    "# assembling GridSearch\n",
    "grid = [{'max_depth': [25, 50, 100, None], \n",
    "         'min_samples_split': [2, 4, 8], \n",
    "         'min_samples_leaf': [1, 3, 5]}]\n",
    "\n",
    "RF_gridsearch = GridSearchCV(estimator=rf_classifier,\n",
    "                          param_grid=grid,\n",
    "                          scoring='accuracy',\n",
    "                          cv=5,\n",
    "                          return_train_score=True)\n",
    "\n",
    "# Fit the training data\n",
    "RF_gridsearch.fit(X_train, y_train)\n",
    "y_pred_test = RF_gridsearch.predict(X_test)\n",
    "y_pred_train = RF_gridsearch.predict(X_train)\n",
    "\n",
    "# evaluating performance\n",
    "print(f'Accuracy Score for Training Data: {round(accuracy_score(y_train, y_pred_train), 4)}')\n",
    "evaluate_performance(y_test, y_pred_test, 'RF_TF-IDF')                  "
   ]
  },
  {
   "cell_type": "code",
   "execution_count": 8,
   "metadata": {},
   "outputs": [
    {
     "data": {
      "text/plain": [
       "<matplotlib.axes._subplots.AxesSubplot at 0x23b9ac25f60>"
      ]
     },
     "execution_count": 8,
     "metadata": {},
     "output_type": "execute_result"
    },
    {
     "data": {
      "image/png": "[encoded data removed]",
      "text/plain": [
       "<Figure size 360x360 with 2 Axes>"
      ]
     },
     "metadata": {
      "needs_background": "light"
     },
     "output_type": "display_data"
    }
   ],
   "source": [
    "# viewing confusion matrix\n",
    "skplt.metrics.plot_confusion_matrix(y_test, y_pred_test, figsize=(5,5), normalize=True)"
   ]
  },
  {
   "cell_type": "markdown",
   "metadata": {},
   "source": [
    "## Using Dimensionality-Reduced TF-IDF"
   ]
  },
  {
   "cell_type": "code",
   "execution_count": 9,
   "metadata": {
    "ExecuteTime": {
     "end_time": "2020-06-09T14:51:08.589835Z",
     "start_time": "2020-06-09T14:50:21.827325Z"
    },
    "scrolled": true
   },
   "outputs": [
    {
     "name": "stdout",
     "output_type": "stream",
     "text": [
      "Accuracy Score for Training Data: 1.0\n",
      "                 precision    recall  f1-score   support\n",
      "\n",
      "Not Shakespeare       0.50      1.00      0.67         9\n",
      "    Shakespeare       0.00      0.00      0.00         9\n",
      "\n",
      "       accuracy                           0.50        18\n",
      "      macro avg       0.25      0.50      0.33        18\n",
      "   weighted avg       0.25      0.50      0.33        18\n",
      "\n"
     ]
    }
   ],
   "source": [
    "# fitting the training data\n",
    "RF_gridsearch.fit(X_train_50, y_train)\n",
    "y_pred_test = RF_gridsearch.predict(X_test_50)\n",
    "y_pred_train = RF_gridsearch.predict(X_train_50)\n",
    "\n",
    "# evaluating performance\n",
    "print(f'Accuracy Score for Training Data: {round(accuracy_score(y_train, y_pred_train), 4)}')\n",
    "evaluate_performance(y_test, y_pred_test, 'RF_Dim-Reduc')                  "
   ]
  },
  {
   "cell_type": "code",
   "execution_count": 10,
   "metadata": {},
   "outputs": [
    {
     "data": {
      "text/plain": [
       "<matplotlib.axes._subplots.AxesSubplot at 0x23b9ac42358>"
      ]
     },
     "execution_count": 10,
     "metadata": {},
     "output_type": "execute_result"
    },
    {
     "data": {
      "image/png": "[encoded data removed]",
      "text/plain": [
       "<Figure size 360x360 with 2 Axes>"
      ]
     },
     "metadata": {
      "needs_background": "light"
     },
     "output_type": "display_data"
    }
   ],
   "source": [
    "# viewing confusion matrix\n",
    "skplt.metrics.plot_confusion_matrix(y_test, y_pred_test, figsize=(5,5), normalize=True)"
   ]
  },
  {
   "cell_type": "markdown",
   "metadata": {},
   "source": [
    "## Using Bigram TF-IDF"
   ]
  },
  {
   "cell_type": "code",
   "execution_count": 11,
   "metadata": {},
   "outputs": [
    {
     "name": "stdout",
     "output_type": "stream",
     "text": [
      "Accuracy Score for Training Data: 1.0\n",
      "                 precision    recall  f1-score   support\n",
      "\n",
      "Not Shakespeare       0.64      1.00      0.78         9\n",
      "    Shakespeare       1.00      0.44      0.62         9\n",
      "\n",
      "       accuracy                           0.72        18\n",
      "      macro avg       0.82      0.72      0.70        18\n",
      "   weighted avg       0.82      0.72      0.70        18\n",
      "\n"
     ]
    }
   ],
   "source": [
    "# fitting the training data\n",
    "RF_gridsearch.fit(X_train_ngrams, y_train)\n",
    "y_pred_test = RF_gridsearch.predict(X_test_ngrams)\n",
    "y_pred_train = RF_gridsearch.predict(X_train_ngrams)\n",
    "\n",
    "# evaluating performance\n",
    "print(f'Accuracy Score for Training Data: {round(accuracy_score(y_train, y_pred_train), 4)}')\n",
    "evaluate_performance(y_test, y_pred_test, 'RF_ngrams')                 "
   ]
  },
  {
   "cell_type": "code",
   "execution_count": 12,
   "metadata": {},
   "outputs": [
    {
     "data": {
      "text/plain": [
       "<matplotlib.axes._subplots.AxesSubplot at 0x23b9ac65cf8>"
      ]
     },
     "execution_count": 12,
     "metadata": {},
     "output_type": "execute_result"
    },
    {
     "data": {
      "image/png": "[encoded data removed]",
      "text/plain": [
       "<Figure size 360x360 with 2 Axes>"
      ]
     },
     "metadata": {
      "needs_background": "light"
     },
     "output_type": "display_data"
    }
   ],
   "source": [
    "# viewing confusion matrix\n",
    "skplt.metrics.plot_confusion_matrix(y_test, y_pred_test, figsize=(5,5), normalize=True)"
   ]
  },
  {
   "cell_type": "markdown",
   "metadata": {},
   "source": [
    "The Random Forest performed best using the full set of unigrams, achieving an accuracy of 94%, with a recall of 89% on my target class. The dimensionality reduced data performed very poorly, and did not identify any of our 18 texts as Shakespeare. "
   ]
  },
  {
   "cell_type": "markdown",
   "metadata": {},
   "source": [
    "# Naive Bayes\n",
    "\n",
    "The next classifier I am using is Naive Bayes, which is a probability-based method of determining class. However, as the model assumes independence of each of our features, and performs on multiclass problems I had my doubts on whether this would be able to make high accuracy predictions.\n",
    "\n",
    "## Multinomial Bayes Using Full TF-IDF"
   ]
  },
  {
   "cell_type": "code",
   "execution_count": 13,
   "metadata": {
    "ExecuteTime": {
     "end_time": "2020-06-09T14:51:12.286342Z",
     "start_time": "2020-06-09T14:51:12.261288Z"
    }
   },
   "outputs": [
    {
     "name": "stdout",
     "output_type": "stream",
     "text": [
      "Accuracy Score for Training Data: 1.0\n",
      "                 precision    recall  f1-score   support\n",
      "\n",
      "Not Shakespeare       0.64      1.00      0.78         9\n",
      "    Shakespeare       1.00      0.44      0.62         9\n",
      "\n",
      "       accuracy                           0.72        18\n",
      "      macro avg       0.82      0.72      0.70        18\n",
      "   weighted avg       0.82      0.72      0.70        18\n",
      "\n"
     ]
    }
   ],
   "source": [
    "nb_classifier = MultinomialNB()\n",
    "\n",
    "nb_classifier.fit(X_train, y_train)\n",
    "y_train_preds = nb_classifier.predict(X_train)\n",
    "y_test_preds = nb_classifier.predict(X_test)\n",
    "\n",
    "# evaluating performance\n",
    "print(f'Accuracy Score for Training Data: {round(accuracy_score(y_train, y_pred_train), 4)}')\n",
    "evaluate_performance(y_test, y_pred_test, 'MNB_TF-IDF')    "
   ]
  },
  {
   "cell_type": "code",
   "execution_count": 14,
   "metadata": {},
   "outputs": [
    {
     "data": {
      "text/plain": [
       "<matplotlib.axes._subplots.AxesSubplot at 0x23b9ac7bd30>"
      ]
     },
     "execution_count": 14,
     "metadata": {},
     "output_type": "execute_result"
    },
    {
     "data": {
      "image/png": "[encoded data removed]",
      "text/plain": [
       "<Figure size 360x360 with 2 Axes>"
      ]
     },
     "metadata": {
      "needs_background": "light"
     },
     "output_type": "display_data"
    }
   ],
   "source": [
    "# viewing confusion matrix\n",
    "skplt.metrics.plot_confusion_matrix(y_test, y_pred_test, figsize=(5,5), normalize=True)"
   ]
  },
  {
   "cell_type": "markdown",
   "metadata": {},
   "source": [
    "## Complement Naive Bayes Using Fall TF-IDF\n",
    "\n",
    "I am also fitting a Complement Naive Bayes, an adaptation of the above standard Multinomial Naive Bayes algorithm, often outperforming it when it comes to text classification problems. This algorithm uses the complement of each class to compute weights, making it particularly suited for imbalanced data sets. We only have a slight class imbalance here. "
   ]
  },
  {
   "cell_type": "code",
   "execution_count": 15,
   "metadata": {},
   "outputs": [
    {
     "name": "stdout",
     "output_type": "stream",
     "text": [
      "Accuracy Score for Training Data: 1.0\n",
      "                 precision    recall  f1-score   support\n",
      "\n",
      "Not Shakespeare       0.64      1.00      0.78         9\n",
      "    Shakespeare       1.00      0.44      0.62         9\n",
      "\n",
      "       accuracy                           0.72        18\n",
      "      macro avg       0.82      0.72      0.70        18\n",
      "   weighted avg       0.82      0.72      0.70        18\n",
      "\n"
     ]
    }
   ],
   "source": [
    "cnb = ComplementNB()\n",
    "\n",
    "cnb.fit(X_train, y_train)\n",
    "y_train_preds = cnb.predict(X_train)\n",
    "y_test_preds = cnb.predict(X_test)\n",
    "\n",
    "# evaluating performance\n",
    "print(f'Accuracy Score for Training Data: {round(accuracy_score(y_train, y_pred_train), 4)}')\n",
    "evaluate_performance(y_test, y_pred_test, 'CNB_TF-IDF')  "
   ]
  },
  {
   "cell_type": "code",
   "execution_count": 16,
   "metadata": {},
   "outputs": [
    {
     "data": {
      "text/plain": [
       "<matplotlib.axes._subplots.AxesSubplot at 0x23b9ad7c4a8>"
      ]
     },
     "execution_count": 16,
     "metadata": {},
     "output_type": "execute_result"
    },
    {
     "data": {
      "image/png": "[encoded data removed]",
      "text/plain": [
       "<Figure size 360x360 with 2 Axes>"
      ]
     },
     "metadata": {
      "needs_background": "light"
     },
     "output_type": "display_data"
    }
   ],
   "source": [
    "# viewing confusion matrix\n",
    "skplt.metrics.plot_confusion_matrix(y_test, y_pred_test, figsize=(5,5), normalize=True)"
   ]
  },
  {
   "cell_type": "markdown",
   "metadata": {},
   "source": [
    "Neither of our Naive Bayes algorithms performed particularly well - they performed the same on our full TF-IDF data. These classifiers are not often the highest performing, so it is not surprising that these are outpaced by the Random Forest thusfar."
   ]
  },
  {
   "cell_type": "markdown",
   "metadata": {},
   "source": [
    "# Support Vector Machine (SVM)\n",
    "\n",
    "The next model I am using identifies a hyperplane that divides our datapoints by class. A SVM should hopefully be effective given the high dimensionality of our data. \n",
    "\n",
    "## Using Dimensionality Reduced TF-IDF"
   ]
  },
  {
   "cell_type": "code",
   "execution_count": 17,
   "metadata": {
    "ExecuteTime": {
     "end_time": "2020-06-09T15:01:09.284695Z",
     "start_time": "2020-06-09T15:01:09.263893Z"
    }
   },
   "outputs": [
    {
     "name": "stdout",
     "output_type": "stream",
     "text": [
      "Accuracy Score for Training Data: 1.0\n",
      "                 precision    recall  f1-score   support\n",
      "\n",
      "Not Shakespeare       0.56      1.00      0.72         9\n",
      "    Shakespeare       1.00      0.22      0.36         9\n",
      "\n",
      "       accuracy                           0.61        18\n",
      "      macro avg       0.78      0.61      0.54        18\n",
      "   weighted avg       0.78      0.61      0.54        18\n",
      "\n"
     ]
    }
   ],
   "source": [
    "# initializing SVM classifier with a linear kernel (recommended for text classification)\n",
    "svm_classifier = SVC(C=1, kernel='linear', gamma='auto')\n",
    "svm_classifier.fit(X_train_50, y_train)\n",
    "y_train_preds = svm_classifier.predict(X_train_50)\n",
    "y_test_preds = svm_classifier.predict(X_test_50)\n",
    "\n",
    "print(f'Accuracy Score for Training Data: {round(accuracy_score(y_train, y_pred_train), 4)}')\n",
    "evaluate_performance(y_test, y_test_preds, 'SVM_Dim-Red')"
   ]
  },
  {
   "cell_type": "code",
   "execution_count": 18,
   "metadata": {},
   "outputs": [
    {
     "data": {
      "text/plain": [
       "<matplotlib.axes._subplots.AxesSubplot at 0x23b9dd70470>"
      ]
     },
     "execution_count": 18,
     "metadata": {},
     "output_type": "execute_result"
    },
    {
     "data": {
      "image/png": "[encoded data removed]",
      "text/plain": [
       "<Figure size 360x360 with 2 Axes>"
      ]
     },
     "metadata": {
      "needs_background": "light"
     },
     "output_type": "display_data"
    }
   ],
   "source": [
    "# viewing confusion matrix\n",
    "skplt.metrics.plot_confusion_matrix(y_test, y_pred_test, figsize=(5,5), normalize=True)"
   ]
  },
  {
   "cell_type": "markdown",
   "metadata": {},
   "source": [
    "## Using TF-IDF of Bigrams"
   ]
  },
  {
   "cell_type": "code",
   "execution_count": 19,
   "metadata": {
    "ExecuteTime": {
     "end_time": "2020-06-09T15:01:12.396122Z",
     "start_time": "2020-06-09T15:01:12.108265Z"
    },
    "scrolled": true
   },
   "outputs": [
    {
     "name": "stdout",
     "output_type": "stream",
     "text": [
      "Accuracy Score for Training Data: 1.0\n",
      "                 precision    recall  f1-score   support\n",
      "\n",
      "Not Shakespeare       0.60      1.00      0.75         9\n",
      "    Shakespeare       1.00      0.33      0.50         9\n",
      "\n",
      "       accuracy                           0.67        18\n",
      "      macro avg       0.80      0.67      0.62        18\n",
      "   weighted avg       0.80      0.67      0.62        18\n",
      "\n"
     ]
    }
   ],
   "source": [
    "# using our classifier with the same parameters and fitting to ngrams\n",
    "svm_classifier.fit(X_train_ngrams, y_train)\n",
    "y_train_preds = svm_classifier.predict(X_train_ngrams)\n",
    "y_test_preds = svm_classifier.predict(X_test_ngrams)\n",
    "\n",
    "print(f'Accuracy Score for Training Data: {round(accuracy_score(y_train, y_pred_train), 4)}')\n",
    "evaluate_performance(y_test, y_test_preds, 'SVM_bigrams')"
   ]
  },
  {
   "cell_type": "code",
   "execution_count": 20,
   "metadata": {},
   "outputs": [
    {
     "data": {
      "text/plain": [
       "<matplotlib.axes._subplots.AxesSubplot at 0x23b9dd97b00>"
      ]
     },
     "execution_count": 20,
     "metadata": {},
     "output_type": "execute_result"
    },
    {
     "data": {
      "image/png": "[encoded data removed]",
      "text/plain": [
       "<Figure size 360x360 with 2 Axes>"
      ]
     },
     "metadata": {
      "needs_background": "light"
     },
     "output_type": "display_data"
    }
   ],
   "source": [
    "# viewing confusion matrix\n",
    "skplt.metrics.plot_confusion_matrix(y_test, y_pred_test, figsize=(5,5), normalize=True)"
   ]
  },
  {
   "cell_type": "markdown",
   "metadata": {},
   "source": [
    "# XGBoost\n",
    "\n",
    "The last of my machine learning models before I delve into deep learning is  XGBoost. XGBoost functions by using gradient boosted trees, and like Random Forest is an ensemble method. Unlike Random Forest, it works iteratively to correct the errors of prior trees to minimize loss with small information gains achieved with each tree.\n",
    "\n",
    "## Using Default Params and Unigrams"
   ]
  },
  {
   "cell_type": "code",
   "execution_count": 21,
   "metadata": {},
   "outputs": [
    {
     "name": "stdout",
     "output_type": "stream",
     "text": [
      "Accuracy Score for Training Data: 1.0\n",
      "                 precision    recall  f1-score   support\n",
      "\n",
      "Not Shakespeare       1.00      1.00      1.00         9\n",
      "    Shakespeare       1.00      1.00      1.00         9\n",
      "\n",
      "       accuracy                           1.00        18\n",
      "      macro avg       1.00      1.00      1.00        18\n",
      "   weighted avg       1.00      1.00      1.00        18\n",
      "\n"
     ]
    }
   ],
   "source": [
    "# creating XGBoost classifier using default params\n",
    "xgb_classifier = xgb.XGBClassifier()\n",
    "\n",
    "# fitting model\n",
    "xgb_classifier.fit(X_train, y_train)\n",
    "y_train_preds = xgb_classifier.predict(X_train)\n",
    "y_test_preds = xgb_classifier.predict(X_test)\n",
    "\n",
    "# evaluating performance\n",
    "print(f'Accuracy Score for Training Data: {round(accuracy_score(y_train, y_pred_train), 4)}')\n",
    "evaluate_performance(y_test, y_test_preds, 'XGB_TF-IDF')     "
   ]
  },
  {
   "cell_type": "code",
   "execution_count": 22,
   "metadata": {},
   "outputs": [
    {
     "data": {
      "text/plain": [
       "<matplotlib.axes._subplots.AxesSubplot at 0x23b9b285ac8>"
      ]
     },
     "execution_count": 22,
     "metadata": {},
     "output_type": "execute_result"
    },
    {
     "data": {
      "image/png": "[encoded data removed]",
      "text/plain": [
       "<Figure size 360x360 with 2 Axes>"
      ]
     },
     "metadata": {
      "needs_background": "light"
     },
     "output_type": "display_data"
    }
   ],
   "source": [
    "# viewing confusion matrix\n",
    "skplt.metrics.plot_confusion_matrix(y_test, y_pred_test, figsize=(5,5), normalize=True)"
   ]
  },
  {
   "cell_type": "markdown",
   "metadata": {},
   "source": [
    "## Using W2V and Glove Weights"
   ]
  },
  {
   "cell_type": "code",
   "execution_count": 23,
   "metadata": {
    "scrolled": true
   },
   "outputs": [
    {
     "name": "stdout",
     "output_type": "stream",
     "text": [
      "Accuracy Score for Training Data: 0.5775\n",
      "                 precision    recall  f1-score   support\n",
      "\n",
      "Not Shakespeare       0.50      1.00      0.67         9\n",
      "    Shakespeare       0.00      0.00      0.00         9\n",
      "\n",
      "       accuracy                           0.50        18\n",
      "      macro avg       0.25      0.50      0.33        18\n",
      "   weighted avg       0.25      0.50      0.33        18\n",
      "\n"
     ]
    }
   ],
   "source": [
    "#  fitting XGBoost pipleline using vectorizer\n",
    "XGB_pipeline = Pipeline([('Word2Vec', W2vVectorizer(embeddings_index)),\n",
    "                         ('xgb', xgb.XGBClassifier())])\n",
    "\n",
    "XGB_grid = [{'xgb__learning_rate': [0.001, 0.002],\n",
    "            'xgb__max_depth': [5, 10, 15, 20],\n",
    "            'xgb__min_child_weight': [1, 3, 5],\n",
    "            'xgb__n_estimators': [100, 150, 200]}]\n",
    "\n",
    "XGB_gridsearch = GridSearchCV(XGB_pipeline,\n",
    "                              XGB_grid,\n",
    "                              scoring='accuracy',\n",
    "                              cv=5,\n",
    "                              n_jobs=1)\n",
    "XGB_gridsearch.fit(train_sequences, y_train)\n",
    "y_pred_test = XGB_gridsearch.predict(test_sequences)\n",
    "y_pred_train = XGB_gridsearch.predict(train_sequences)\n",
    "\n",
    "# evaluating performance\n",
    "print(f'Accuracy Score for Training Data: {round(accuracy_score(y_train, y_pred_train), 4)}')\n",
    "evaluate_performance(y_test, y_pred_test, 'XGB_seq')           "
   ]
  },
  {
   "cell_type": "code",
   "execution_count": 24,
   "metadata": {},
   "outputs": [
    {
     "data": {
      "text/plain": [
       "<matplotlib.axes._subplots.AxesSubplot at 0x23b9dd96da0>"
      ]
     },
     "execution_count": 24,
     "metadata": {},
     "output_type": "execute_result"
    },
    {
     "data": {
      "image/png": "[encoded data removed]",
      "text/plain": [
       "<Figure size 360x360 with 2 Axes>"
      ]
     },
     "metadata": {
      "needs_background": "light"
     },
     "output_type": "display_data"
    }
   ],
   "source": [
    "# viewing confusion matrix\n",
    "skplt.metrics.plot_confusion_matrix(y_test, y_pred_test, figsize=(5,5), normalize=True)"
   ]
  },
  {
   "cell_type": "markdown",
   "metadata": {},
   "source": [
    "# RNNs\n",
    "\n",
    "My last model type is a Long Short Term Memory(LSTM) Recurrent Neural Network with Gated Recurrent Units, meaning each cell retains better short-term memory of what has been learned in order to minimize loss. A GRU tempers this with a reset gate and an update gate, determining relevant/irrelevant information, and how much to keep. \n",
    "\n",
    "## GloVe Pretrained Weights\n",
    "I am using the mean embedded vectorization using by the GloVe pre-trained weights as set up in the introduction."
   ]
  },
  {
   "cell_type": "code",
   "execution_count": 25,
   "metadata": {},
   "outputs": [],
   "source": [
    "# importing EarlyStopping and ModelCheckpoint\n",
    "from keras.callbacks import EarlyStopping, ModelCheckpoint\n",
    "\n",
    "# defining stopping criterion\n",
    "early_stopping = [EarlyStopping(monitor='val_loss', patience=15), \n",
    "                  ModelCheckpoint(filepath='best_model.h5', verbose=2, monitor='val_loss', save_best_only=True)]"
   ]
  },
  {
   "cell_type": "code",
   "execution_count": 26,
   "metadata": {
    "ExecuteTime": {
     "end_time": "2020-06-09T19:26:55.329326Z",
     "start_time": "2020-06-09T19:26:54.392436Z"
    }
   },
   "outputs": [],
   "source": [
    "# building RNN with word embeddings and LSTM neurons\n",
    "model = Sequential()\n",
    "\n",
    "model.add(Embedding(len(word_index) + 1, 300, weights=[embedding_matrix], trainable=False))\n",
    "model.add(LSTM(256, return_sequences=True))\n",
    "model.add(GlobalMaxPool1D())\n",
    "model.add(Dropout(0.3))\n",
    "model.add(Dense(256, activation='relu'))\n",
    "model.add(Dropout(0.3))\n",
    "model.add(Dense(128, activation='relu'))\n",
    "model.add(Dropout(0.3))\n",
    "model.add(Dense(56, activation='relu'))\n",
    "model.add(Dropout(0.3))\n",
    "model.add(Dense(1, activation='sigmoid'))\n",
    "\n",
    "model.compile(loss='binary_crossentropy', \n",
    "              optimizer='adam',\n",
    "              metrics=['accuracy'])"
   ]
  },
  {
   "cell_type": "code",
   "execution_count": 27,
   "metadata": {
    "scrolled": true
   },
   "outputs": [
    {
     "name": "stdout",
     "output_type": "stream",
     "text": [
      "_________________________________________________________________\n",
      "Layer (type)                 Output Shape              Param #   \n",
      "=================================================================\n",
      "embedding_1 (Embedding)      (None, None, 300)         13014300  \n",
      "_________________________________________________________________\n",
      "lstm_1 (LSTM)                (None, None, 256)         570368    \n",
      "_________________________________________________________________\n",
      "global_max_pooling1d_1 (Glob (None, 256)               0         \n",
      "_________________________________________________________________\n",
      "dropout_1 (Dropout)          (None, 256)               0         \n",
      "_________________________________________________________________\n",
      "dense_1 (Dense)              (None, 256)               65792     \n",
      "_________________________________________________________________\n",
      "dropout_2 (Dropout)          (None, 256)               0         \n",
      "_________________________________________________________________\n",
      "dense_2 (Dense)              (None, 128)               32896     \n",
      "_________________________________________________________________\n",
      "dropout_3 (Dropout)          (None, 128)               0         \n",
      "_________________________________________________________________\n",
      "dense_3 (Dense)              (None, 56)                7224      \n",
      "_________________________________________________________________\n",
      "dropout_4 (Dropout)          (None, 56)                0         \n",
      "_________________________________________________________________\n",
      "dense_4 (Dense)              (None, 1)                 57        \n",
      "=================================================================\n",
      "Total params: 13,690,637\n",
      "Trainable params: 676,337\n",
      "Non-trainable params: 13,014,300\n",
      "_________________________________________________________________\n"
     ]
    }
   ],
   "source": [
    "# showing summary\n",
    "model.summary()"
   ]
  },
  {
   "cell_type": "code",
   "execution_count": 28,
   "metadata": {
    "scrolled": true
   },
   "outputs": [
    {
     "name": "stdout",
     "output_type": "stream",
     "text": [
      "Train on 49 samples, validate on 22 samples\n",
      "Epoch 1/50\n",
      "49/49 [==============================] - 1s 20ms/step - loss: 0.6745 - acc: 0.6327 - val_loss: 0.9897 - val_acc: 0.0000e+00\n",
      "\n",
      "Epoch 00001: val_loss improved from inf to 0.98968, saving model to best_model.h5\n",
      "Epoch 2/50\n",
      "49/49 [==============================] - 1s 11ms/step - loss: 0.6343 - acc: 0.6327 - val_loss: 1.1246 - val_acc: 0.0000e+00\n",
      "\n",
      "Epoch 00002: val_loss did not improve from 0.98968\n",
      "Epoch 3/50\n",
      "49/49 [==============================] - 1s 11ms/step - loss: 0.5692 - acc: 0.6939 - val_loss: 0.6333 - val_acc: 0.7273\n",
      "\n",
      "Epoch 00003: val_loss improved from 0.98968 to 0.63331, saving model to best_model.h5\n",
      "Epoch 4/50\n",
      "49/49 [==============================] - 1s 11ms/step - loss: 0.4728 - acc: 0.8163 - val_loss: 1.0372 - val_acc: 0.1364\n",
      "\n",
      "Epoch 00004: val_loss did not improve from 0.63331\n",
      "Epoch 5/50\n",
      "49/49 [==============================] - 1s 11ms/step - loss: 0.3808 - acc: 0.8571 - val_loss: 0.5751 - val_acc: 0.6818\n",
      "\n",
      "Epoch 00005: val_loss improved from 0.63331 to 0.57515, saving model to best_model.h5\n",
      "Epoch 6/50\n",
      "49/49 [==============================] - 1s 11ms/step - loss: 0.1708 - acc: 0.9592 - val_loss: 0.5751 - val_acc: 0.6364\n",
      "\n",
      "Epoch 00006: val_loss improved from 0.57515 to 0.57514, saving model to best_model.h5\n",
      "Epoch 7/50\n",
      "49/49 [==============================] - 1s 11ms/step - loss: 0.0722 - acc: 1.0000 - val_loss: 0.3329 - val_acc: 0.9091\n",
      "\n",
      "Epoch 00007: val_loss improved from 0.57514 to 0.33290, saving model to best_model.h5\n",
      "Epoch 8/50\n",
      "49/49 [==============================] - 1s 11ms/step - loss: 0.0221 - acc: 1.0000 - val_loss: 0.6537 - val_acc: 0.8182\n",
      "\n",
      "Epoch 00008: val_loss did not improve from 0.33290\n",
      "Epoch 9/50\n",
      "49/49 [==============================] - 1s 11ms/step - loss: 0.1721 - acc: 0.9592 - val_loss: 0.2044 - val_acc: 1.0000\n",
      "\n",
      "Epoch 00009: val_loss improved from 0.33290 to 0.20436, saving model to best_model.h5\n",
      "Epoch 10/50\n",
      "49/49 [==============================] - 1s 11ms/step - loss: 0.0253 - acc: 1.0000 - val_loss: 1.5531 - val_acc: 0.3636\n",
      "\n",
      "Epoch 00010: val_loss did not improve from 0.20436\n",
      "Epoch 11/50\n",
      "49/49 [==============================] - 1s 11ms/step - loss: 0.0260 - acc: 1.0000 - val_loss: 0.5662 - val_acc: 0.6364\n",
      "\n",
      "Epoch 00011: val_loss did not improve from 0.20436\n",
      "Epoch 12/50\n",
      "49/49 [==============================] - 1s 11ms/step - loss: 0.0186 - acc: 1.0000 - val_loss: 0.0594 - val_acc: 1.0000\n",
      "\n",
      "Epoch 00012: val_loss improved from 0.20436 to 0.05941, saving model to best_model.h5\n",
      "Epoch 13/50\n",
      "49/49 [==============================] - 1s 11ms/step - loss: 0.0178 - acc: 1.0000 - val_loss: 0.2165 - val_acc: 1.0000\n",
      "\n",
      "Epoch 00013: val_loss did not improve from 0.05941\n",
      "Epoch 14/50\n",
      "49/49 [==============================] - 1s 11ms/step - loss: 0.0050 - acc: 1.0000 - val_loss: 0.6563 - val_acc: 0.6364\n",
      "\n",
      "Epoch 00014: val_loss did not improve from 0.05941\n",
      "Epoch 15/50\n",
      "49/49 [==============================] - 1s 11ms/step - loss: 0.0044 - acc: 1.0000 - val_loss: 0.7722 - val_acc: 0.6364\n",
      "\n",
      "Epoch 00015: val_loss did not improve from 0.05941\n",
      "Epoch 16/50\n",
      "49/49 [==============================] - 1s 11ms/step - loss: 0.0147 - acc: 1.0000 - val_loss: 0.0402 - val_acc: 1.0000\n",
      "\n",
      "Epoch 00016: val_loss improved from 0.05941 to 0.04018, saving model to best_model.h5\n",
      "Epoch 17/50\n",
      "49/49 [==============================] - 1s 11ms/step - loss: 0.0048 - acc: 1.0000 - val_loss: 0.0292 - val_acc: 1.0000\n",
      "\n",
      "Epoch 00017: val_loss improved from 0.04018 to 0.02921, saving model to best_model.h5\n",
      "Epoch 18/50\n",
      "49/49 [==============================] - 1s 11ms/step - loss: 0.0045 - acc: 1.0000 - val_loss: 0.1083 - val_acc: 1.0000\n",
      "\n",
      "Epoch 00018: val_loss did not improve from 0.02921\n",
      "Epoch 19/50\n",
      "49/49 [==============================] - 1s 11ms/step - loss: 0.0021 - acc: 1.0000 - val_loss: 0.2480 - val_acc: 0.8182\n",
      "\n",
      "Epoch 00019: val_loss did not improve from 0.02921\n",
      "Epoch 20/50\n",
      "49/49 [==============================] - 1s 11ms/step - loss: 0.0050 - acc: 1.0000 - val_loss: 0.3066 - val_acc: 0.7727\n",
      "\n",
      "Epoch 00020: val_loss did not improve from 0.02921\n",
      "Epoch 21/50\n",
      "49/49 [==============================] - 1s 11ms/step - loss: 0.0014 - acc: 1.0000 - val_loss: 0.3097 - val_acc: 0.7727\n",
      "\n",
      "Epoch 00021: val_loss did not improve from 0.02921\n",
      "Epoch 22/50\n",
      "49/49 [==============================] - 1s 11ms/step - loss: 0.0029 - acc: 1.0000 - val_loss: 0.2554 - val_acc: 0.8182\n",
      "\n",
      "Epoch 00022: val_loss did not improve from 0.02921\n",
      "Epoch 23/50\n",
      "49/49 [==============================] - 1s 11ms/step - loss: 0.0011 - acc: 1.0000 - val_loss: 0.2715 - val_acc: 0.8182\n",
      "\n",
      "Epoch 00023: val_loss did not improve from 0.02921\n",
      "Epoch 24/50\n",
      "49/49 [==============================] - 1s 11ms/step - loss: 5.0704e-04 - acc: 1.0000 - val_loss: 0.3221 - val_acc: 0.7727\n",
      "\n",
      "Epoch 00024: val_loss did not improve from 0.02921\n",
      "Epoch 25/50\n",
      "49/49 [==============================] - 1s 11ms/step - loss: 5.8117e-04 - acc: 1.0000 - val_loss: 0.3473 - val_acc: 0.7273\n",
      "\n",
      "Epoch 00025: val_loss did not improve from 0.02921\n",
      "Epoch 26/50\n",
      "49/49 [==============================] - 1s 11ms/step - loss: 8.5685e-04 - acc: 1.0000 - val_loss: 0.4612 - val_acc: 0.6364\n",
      "\n",
      "Epoch 00026: val_loss did not improve from 0.02921\n",
      "Epoch 27/50\n",
      "49/49 [==============================] - 1s 11ms/step - loss: 8.8088e-04 - acc: 1.0000 - val_loss: 0.6702 - val_acc: 0.6364\n",
      "\n",
      "Epoch 00027: val_loss did not improve from 0.02921\n",
      "Epoch 28/50\n",
      "49/49 [==============================] - 1s 11ms/step - loss: 4.2885e-04 - acc: 1.0000 - val_loss: 0.7921 - val_acc: 0.6364\n",
      "\n",
      "Epoch 00028: val_loss did not improve from 0.02921\n",
      "Epoch 29/50\n",
      "49/49 [==============================] - 1s 11ms/step - loss: 0.0011 - acc: 1.0000 - val_loss: 0.7582 - val_acc: 0.6364\n",
      "\n",
      "Epoch 00029: val_loss did not improve from 0.02921\n",
      "Epoch 30/50\n",
      "49/49 [==============================] - 1s 11ms/step - loss: 3.0571e-04 - acc: 1.0000 - val_loss: 0.7776 - val_acc: 0.6364\n",
      "\n",
      "Epoch 00030: val_loss did not improve from 0.02921\n",
      "Epoch 31/50\n",
      "49/49 [==============================] - 1s 11ms/step - loss: 1.7933e-04 - acc: 1.0000 - val_loss: 0.7640 - val_acc: 0.6364\n",
      "\n",
      "Epoch 00031: val_loss did not improve from 0.02921\n",
      "Epoch 32/50\n",
      "49/49 [==============================] - 1s 11ms/step - loss: 1.0825e-04 - acc: 1.0000 - val_loss: 0.7889 - val_acc: 0.6364\n",
      "\n",
      "Epoch 00032: val_loss did not improve from 0.02921\n"
     ]
    }
   ],
   "source": [
    "# fitting RNN with validation split\n",
    "history = model.fit(train_sequences,\n",
    "                    y_train,\n",
    "                    epochs=50,\n",
    "                    callbacks=early_stopping,\n",
    "                    batch_size=5,\n",
    "                    validation_split=0.30)"
   ]
  },
  {
   "cell_type": "code",
   "execution_count": 29,
   "metadata": {},
   "outputs": [
    {
     "name": "stdout",
     "output_type": "stream",
     "text": [
      "Accuracy Score for Training Data: 1.0\n",
      "                 precision    recall  f1-score   support\n",
      "\n",
      "Not Shakespeare       1.00      1.00      1.00         9\n",
      "    Shakespeare       1.00      1.00      1.00         9\n",
      "\n",
      "       accuracy                           1.00        18\n",
      "      macro avg       1.00      1.00      1.00        18\n",
      "   weighted avg       1.00      1.00      1.00        18\n",
      "\n"
     ]
    }
   ],
   "source": [
    "# loading saved model\n",
    "from keras.models import load_model\n",
    "saved_model = load_model('best_model.h5')\n",
    "\n",
    "# generating predictions for RNN\n",
    "y_pred_test = saved_model.predict_classes(test_sequences)\n",
    "y_pred_train = saved_model.predict_classes(train_sequences)\n",
    "print(f'Accuracy Score for Training Data: {round(accuracy_score(y_train, y_pred_train), 4)}')\n",
    "evaluate_performance(y_test, y_test_preds, 'RNN')     "
   ]
  },
  {
   "cell_type": "code",
   "execution_count": 30,
   "metadata": {},
   "outputs": [
    {
     "data": {
      "image/png": "[encoded data removed]",
      "text/plain": [
       "<Figure size 432x288 with 1 Axes>"
      ]
     },
     "metadata": {
      "needs_background": "light"
     },
     "output_type": "display_data"
    },
    {
     "data": {
      "image/png": "[encoded data removed]",
      "text/plain": [
       "<Figure size 432x288 with 1 Axes>"
      ]
     },
     "metadata": {
      "needs_background": "light"
     },
     "output_type": "display_data"
    }
   ],
   "source": [
    "# defining function to visualize model performance\n",
    "def visualize_training_results(results):\n",
    "    history = results.history\n",
    "    plt.figure()\n",
    "    plt.plot(history['val_loss'])\n",
    "    plt.plot(history['loss'])\n",
    "    plt.legend(['val_loss', 'loss'])\n",
    "    plt.title('Loss')\n",
    "    plt.xlabel('Epochs')\n",
    "    plt.ylabel('Loss')\n",
    "    plt.show()\n",
    "    \n",
    "    plt.figure()\n",
    "    plt.plot(history['val_acc'])\n",
    "    plt.plot(history['acc'])\n",
    "    plt.legend(['val_acc', 'acc'])\n",
    "    plt.title('Accuracy')\n",
    "    plt.xlabel('Epochs')\n",
    "    plt.ylabel('Accuracy')\n",
    "    plt.show()\n",
    "    \n",
    "# displaying model performance\n",
    "visualize_training_results(history)"
   ]
  },
  {
   "cell_type": "code",
   "execution_count": 32,
   "metadata": {},
   "outputs": [
    {
     "data": {
      "text/html": [
       "<style  type=\"text/css\" >\n",
       "    #T_73488830_b7ca_11ea_a5ae_98af6561d72frow0_col1 {\n",
       "            background-color:  #084082;\n",
       "            color:  #f1f1f1;\n",
       "        }    #T_73488830_b7ca_11ea_a5ae_98af6561d72frow0_col2 {\n",
       "            background-color:  #084d96;\n",
       "            color:  #f1f1f1;\n",
       "        }    #T_73488830_b7ca_11ea_a5ae_98af6561d72frow0_col3 {\n",
       "            background-color:  #08306b;\n",
       "            color:  #f1f1f1;\n",
       "        }    #T_73488830_b7ca_11ea_a5ae_98af6561d72frow0_col4 {\n",
       "            background-color:  #084d96;\n",
       "            color:  #f1f1f1;\n",
       "        }    #T_73488830_b7ca_11ea_a5ae_98af6561d72frow1_col1 {\n",
       "            background-color:  #f7fbff;\n",
       "            color:  #000000;\n",
       "        }    #T_73488830_b7ca_11ea_a5ae_98af6561d72frow1_col2 {\n",
       "            background-color:  #f7fbff;\n",
       "            color:  #000000;\n",
       "        }    #T_73488830_b7ca_11ea_a5ae_98af6561d72frow1_col3 {\n",
       "            background-color:  #f7fbff;\n",
       "            color:  #000000;\n",
       "        }    #T_73488830_b7ca_11ea_a5ae_98af6561d72frow1_col4 {\n",
       "            background-color:  #f7fbff;\n",
       "            color:  #000000;\n",
       "        }    #T_73488830_b7ca_11ea_a5ae_98af6561d72frow2_col1 {\n",
       "            background-color:  #4594c7;\n",
       "            color:  #000000;\n",
       "        }    #T_73488830_b7ca_11ea_a5ae_98af6561d72frow2_col2 {\n",
       "            background-color:  #82bbdb;\n",
       "            color:  #000000;\n",
       "        }    #T_73488830_b7ca_11ea_a5ae_98af6561d72frow2_col3 {\n",
       "            background-color:  #08306b;\n",
       "            color:  #f1f1f1;\n",
       "        }    #T_73488830_b7ca_11ea_a5ae_98af6561d72frow2_col4 {\n",
       "            background-color:  #82bbdb;\n",
       "            color:  #000000;\n",
       "        }    #T_73488830_b7ca_11ea_a5ae_98af6561d72frow3_col1 {\n",
       "            background-color:  #4594c7;\n",
       "            color:  #000000;\n",
       "        }    #T_73488830_b7ca_11ea_a5ae_98af6561d72frow3_col2 {\n",
       "            background-color:  #82bbdb;\n",
       "            color:  #000000;\n",
       "        }    #T_73488830_b7ca_11ea_a5ae_98af6561d72frow3_col3 {\n",
       "            background-color:  #08306b;\n",
       "            color:  #f1f1f1;\n",
       "        }    #T_73488830_b7ca_11ea_a5ae_98af6561d72frow3_col4 {\n",
       "            background-color:  #82bbdb;\n",
       "            color:  #000000;\n",
       "        }    #T_73488830_b7ca_11ea_a5ae_98af6561d72frow4_col1 {\n",
       "            background-color:  #4594c7;\n",
       "            color:  #000000;\n",
       "        }    #T_73488830_b7ca_11ea_a5ae_98af6561d72frow4_col2 {\n",
       "            background-color:  #82bbdb;\n",
       "            color:  #000000;\n",
       "        }    #T_73488830_b7ca_11ea_a5ae_98af6561d72frow4_col3 {\n",
       "            background-color:  #08306b;\n",
       "            color:  #f1f1f1;\n",
       "        }    #T_73488830_b7ca_11ea_a5ae_98af6561d72frow4_col4 {\n",
       "            background-color:  #82bbdb;\n",
       "            color:  #000000;\n",
       "        }    #T_73488830_b7ca_11ea_a5ae_98af6561d72frow5_col1 {\n",
       "            background-color:  #a1cbe2;\n",
       "            color:  #000000;\n",
       "        }    #T_73488830_b7ca_11ea_a5ae_98af6561d72frow5_col2 {\n",
       "            background-color:  #ccdff1;\n",
       "            color:  #000000;\n",
       "        }    #T_73488830_b7ca_11ea_a5ae_98af6561d72frow5_col3 {\n",
       "            background-color:  #08306b;\n",
       "            color:  #f1f1f1;\n",
       "        }    #T_73488830_b7ca_11ea_a5ae_98af6561d72frow5_col4 {\n",
       "            background-color:  #ccdff1;\n",
       "            color:  #000000;\n",
       "        }    #T_73488830_b7ca_11ea_a5ae_98af6561d72frow6_col1 {\n",
       "            background-color:  #6aaed6;\n",
       "            color:  #000000;\n",
       "        }    #T_73488830_b7ca_11ea_a5ae_98af6561d72frow6_col2 {\n",
       "            background-color:  #abd0e6;\n",
       "            color:  #000000;\n",
       "        }    #T_73488830_b7ca_11ea_a5ae_98af6561d72frow6_col3 {\n",
       "            background-color:  #08306b;\n",
       "            color:  #f1f1f1;\n",
       "        }    #T_73488830_b7ca_11ea_a5ae_98af6561d72frow6_col4 {\n",
       "            background-color:  #abd0e6;\n",
       "            color:  #000000;\n",
       "        }    #T_73488830_b7ca_11ea_a5ae_98af6561d72frow7_col1 {\n",
       "            background-color:  #08306b;\n",
       "            color:  #f1f1f1;\n",
       "        }    #T_73488830_b7ca_11ea_a5ae_98af6561d72frow7_col2 {\n",
       "            background-color:  #08306b;\n",
       "            color:  #f1f1f1;\n",
       "        }    #T_73488830_b7ca_11ea_a5ae_98af6561d72frow7_col3 {\n",
       "            background-color:  #08306b;\n",
       "            color:  #f1f1f1;\n",
       "        }    #T_73488830_b7ca_11ea_a5ae_98af6561d72frow7_col4 {\n",
       "            background-color:  #08306b;\n",
       "            color:  #f1f1f1;\n",
       "        }    #T_73488830_b7ca_11ea_a5ae_98af6561d72frow8_col1 {\n",
       "            background-color:  #f7fbff;\n",
       "            color:  #000000;\n",
       "        }    #T_73488830_b7ca_11ea_a5ae_98af6561d72frow8_col2 {\n",
       "            background-color:  #f7fbff;\n",
       "            color:  #000000;\n",
       "        }    #T_73488830_b7ca_11ea_a5ae_98af6561d72frow8_col3 {\n",
       "            background-color:  #f7fbff;\n",
       "            color:  #000000;\n",
       "        }    #T_73488830_b7ca_11ea_a5ae_98af6561d72frow8_col4 {\n",
       "            background-color:  #f7fbff;\n",
       "            color:  #000000;\n",
       "        }    #T_73488830_b7ca_11ea_a5ae_98af6561d72frow9_col1 {\n",
       "            background-color:  #08306b;\n",
       "            color:  #f1f1f1;\n",
       "        }    #T_73488830_b7ca_11ea_a5ae_98af6561d72frow9_col2 {\n",
       "            background-color:  #08306b;\n",
       "            color:  #f1f1f1;\n",
       "        }    #T_73488830_b7ca_11ea_a5ae_98af6561d72frow9_col3 {\n",
       "            background-color:  #08306b;\n",
       "            color:  #f1f1f1;\n",
       "        }    #T_73488830_b7ca_11ea_a5ae_98af6561d72frow9_col4 {\n",
       "            background-color:  #08306b;\n",
       "            color:  #f1f1f1;\n",
       "        }</style><table id=\"T_73488830_b7ca_11ea_a5ae_98af6561d72f\" ><thead>    <tr>        <th class=\"blank level0\" ></th>        <th class=\"col_heading level0 col0\" >Model_Name</th>        <th class=\"col_heading level0 col1\" >F1_Score</th>        <th class=\"col_heading level0 col2\" >Accuracy_Score</th>        <th class=\"col_heading level0 col3\" >Precision_Score</th>        <th class=\"col_heading level0 col4\" >Recall_Score</th>    </tr></thead><tbody>\n",
       "                <tr>\n",
       "                        <th id=\"T_73488830_b7ca_11ea_a5ae_98af6561d72flevel0_row0\" class=\"row_heading level0 row0\" >0</th>\n",
       "                        <td id=\"T_73488830_b7ca_11ea_a5ae_98af6561d72frow0_col0\" class=\"data row0 col0\" >RF_TF-IDF</td>\n",
       "                        <td id=\"T_73488830_b7ca_11ea_a5ae_98af6561d72frow0_col1\" class=\"data row0 col1\" >0.9412</td>\n",
       "                        <td id=\"T_73488830_b7ca_11ea_a5ae_98af6561d72frow0_col2\" class=\"data row0 col2\" >0.9444</td>\n",
       "                        <td id=\"T_73488830_b7ca_11ea_a5ae_98af6561d72frow0_col3\" class=\"data row0 col3\" >1</td>\n",
       "                        <td id=\"T_73488830_b7ca_11ea_a5ae_98af6561d72frow0_col4\" class=\"data row0 col4\" >0.8889</td>\n",
       "            </tr>\n",
       "            <tr>\n",
       "                        <th id=\"T_73488830_b7ca_11ea_a5ae_98af6561d72flevel0_row1\" class=\"row_heading level0 row1\" >1</th>\n",
       "                        <td id=\"T_73488830_b7ca_11ea_a5ae_98af6561d72frow1_col0\" class=\"data row1 col0\" >RF_Dim-Reduc</td>\n",
       "                        <td id=\"T_73488830_b7ca_11ea_a5ae_98af6561d72frow1_col1\" class=\"data row1 col1\" >0</td>\n",
       "                        <td id=\"T_73488830_b7ca_11ea_a5ae_98af6561d72frow1_col2\" class=\"data row1 col2\" >0.5</td>\n",
       "                        <td id=\"T_73488830_b7ca_11ea_a5ae_98af6561d72frow1_col3\" class=\"data row1 col3\" >0</td>\n",
       "                        <td id=\"T_73488830_b7ca_11ea_a5ae_98af6561d72frow1_col4\" class=\"data row1 col4\" >0</td>\n",
       "            </tr>\n",
       "            <tr>\n",
       "                        <th id=\"T_73488830_b7ca_11ea_a5ae_98af6561d72flevel0_row2\" class=\"row_heading level0 row2\" >2</th>\n",
       "                        <td id=\"T_73488830_b7ca_11ea_a5ae_98af6561d72frow2_col0\" class=\"data row2 col0\" >RF_ngrams</td>\n",
       "                        <td id=\"T_73488830_b7ca_11ea_a5ae_98af6561d72frow2_col1\" class=\"data row2 col1\" >0.6154</td>\n",
       "                        <td id=\"T_73488830_b7ca_11ea_a5ae_98af6561d72frow2_col2\" class=\"data row2 col2\" >0.7222</td>\n",
       "                        <td id=\"T_73488830_b7ca_11ea_a5ae_98af6561d72frow2_col3\" class=\"data row2 col3\" >1</td>\n",
       "                        <td id=\"T_73488830_b7ca_11ea_a5ae_98af6561d72frow2_col4\" class=\"data row2 col4\" >0.4444</td>\n",
       "            </tr>\n",
       "            <tr>\n",
       "                        <th id=\"T_73488830_b7ca_11ea_a5ae_98af6561d72flevel0_row3\" class=\"row_heading level0 row3\" >3</th>\n",
       "                        <td id=\"T_73488830_b7ca_11ea_a5ae_98af6561d72frow3_col0\" class=\"data row3 col0\" >MNB_TF-IDF</td>\n",
       "                        <td id=\"T_73488830_b7ca_11ea_a5ae_98af6561d72frow3_col1\" class=\"data row3 col1\" >0.6154</td>\n",
       "                        <td id=\"T_73488830_b7ca_11ea_a5ae_98af6561d72frow3_col2\" class=\"data row3 col2\" >0.7222</td>\n",
       "                        <td id=\"T_73488830_b7ca_11ea_a5ae_98af6561d72frow3_col3\" class=\"data row3 col3\" >1</td>\n",
       "                        <td id=\"T_73488830_b7ca_11ea_a5ae_98af6561d72frow3_col4\" class=\"data row3 col4\" >0.4444</td>\n",
       "            </tr>\n",
       "            <tr>\n",
       "                        <th id=\"T_73488830_b7ca_11ea_a5ae_98af6561d72flevel0_row4\" class=\"row_heading level0 row4\" >4</th>\n",
       "                        <td id=\"T_73488830_b7ca_11ea_a5ae_98af6561d72frow4_col0\" class=\"data row4 col0\" >CNB_TF-IDF</td>\n",
       "                        <td id=\"T_73488830_b7ca_11ea_a5ae_98af6561d72frow4_col1\" class=\"data row4 col1\" >0.6154</td>\n",
       "                        <td id=\"T_73488830_b7ca_11ea_a5ae_98af6561d72frow4_col2\" class=\"data row4 col2\" >0.7222</td>\n",
       "                        <td id=\"T_73488830_b7ca_11ea_a5ae_98af6561d72frow4_col3\" class=\"data row4 col3\" >1</td>\n",
       "                        <td id=\"T_73488830_b7ca_11ea_a5ae_98af6561d72frow4_col4\" class=\"data row4 col4\" >0.4444</td>\n",
       "            </tr>\n",
       "            <tr>\n",
       "                        <th id=\"T_73488830_b7ca_11ea_a5ae_98af6561d72flevel0_row5\" class=\"row_heading level0 row5\" >5</th>\n",
       "                        <td id=\"T_73488830_b7ca_11ea_a5ae_98af6561d72frow5_col0\" class=\"data row5 col0\" >SVM_Dim-Red</td>\n",
       "                        <td id=\"T_73488830_b7ca_11ea_a5ae_98af6561d72frow5_col1\" class=\"data row5 col1\" >0.3636</td>\n",
       "                        <td id=\"T_73488830_b7ca_11ea_a5ae_98af6561d72frow5_col2\" class=\"data row5 col2\" >0.6111</td>\n",
       "                        <td id=\"T_73488830_b7ca_11ea_a5ae_98af6561d72frow5_col3\" class=\"data row5 col3\" >1</td>\n",
       "                        <td id=\"T_73488830_b7ca_11ea_a5ae_98af6561d72frow5_col4\" class=\"data row5 col4\" >0.2222</td>\n",
       "            </tr>\n",
       "            <tr>\n",
       "                        <th id=\"T_73488830_b7ca_11ea_a5ae_98af6561d72flevel0_row6\" class=\"row_heading level0 row6\" >6</th>\n",
       "                        <td id=\"T_73488830_b7ca_11ea_a5ae_98af6561d72frow6_col0\" class=\"data row6 col0\" >SVM_bigrams</td>\n",
       "                        <td id=\"T_73488830_b7ca_11ea_a5ae_98af6561d72frow6_col1\" class=\"data row6 col1\" >0.5</td>\n",
       "                        <td id=\"T_73488830_b7ca_11ea_a5ae_98af6561d72frow6_col2\" class=\"data row6 col2\" >0.6667</td>\n",
       "                        <td id=\"T_73488830_b7ca_11ea_a5ae_98af6561d72frow6_col3\" class=\"data row6 col3\" >1</td>\n",
       "                        <td id=\"T_73488830_b7ca_11ea_a5ae_98af6561d72frow6_col4\" class=\"data row6 col4\" >0.3333</td>\n",
       "            </tr>\n",
       "            <tr>\n",
       "                        <th id=\"T_73488830_b7ca_11ea_a5ae_98af6561d72flevel0_row7\" class=\"row_heading level0 row7\" >7</th>\n",
       "                        <td id=\"T_73488830_b7ca_11ea_a5ae_98af6561d72frow7_col0\" class=\"data row7 col0\" >XGB_TF-IDF</td>\n",
       "                        <td id=\"T_73488830_b7ca_11ea_a5ae_98af6561d72frow7_col1\" class=\"data row7 col1\" >1</td>\n",
       "                        <td id=\"T_73488830_b7ca_11ea_a5ae_98af6561d72frow7_col2\" class=\"data row7 col2\" >1</td>\n",
       "                        <td id=\"T_73488830_b7ca_11ea_a5ae_98af6561d72frow7_col3\" class=\"data row7 col3\" >1</td>\n",
       "                        <td id=\"T_73488830_b7ca_11ea_a5ae_98af6561d72frow7_col4\" class=\"data row7 col4\" >1</td>\n",
       "            </tr>\n",
       "            <tr>\n",
       "                        <th id=\"T_73488830_b7ca_11ea_a5ae_98af6561d72flevel0_row8\" class=\"row_heading level0 row8\" >8</th>\n",
       "                        <td id=\"T_73488830_b7ca_11ea_a5ae_98af6561d72frow8_col0\" class=\"data row8 col0\" >XGB_seq</td>\n",
       "                        <td id=\"T_73488830_b7ca_11ea_a5ae_98af6561d72frow8_col1\" class=\"data row8 col1\" >0</td>\n",
       "                        <td id=\"T_73488830_b7ca_11ea_a5ae_98af6561d72frow8_col2\" class=\"data row8 col2\" >0.5</td>\n",
       "                        <td id=\"T_73488830_b7ca_11ea_a5ae_98af6561d72frow8_col3\" class=\"data row8 col3\" >0</td>\n",
       "                        <td id=\"T_73488830_b7ca_11ea_a5ae_98af6561d72frow8_col4\" class=\"data row8 col4\" >0</td>\n",
       "            </tr>\n",
       "            <tr>\n",
       "                        <th id=\"T_73488830_b7ca_11ea_a5ae_98af6561d72flevel0_row9\" class=\"row_heading level0 row9\" >9</th>\n",
       "                        <td id=\"T_73488830_b7ca_11ea_a5ae_98af6561d72frow9_col0\" class=\"data row9 col0\" >RNN</td>\n",
       "                        <td id=\"T_73488830_b7ca_11ea_a5ae_98af6561d72frow9_col1\" class=\"data row9 col1\" >1</td>\n",
       "                        <td id=\"T_73488830_b7ca_11ea_a5ae_98af6561d72frow9_col2\" class=\"data row9 col2\" >1</td>\n",
       "                        <td id=\"T_73488830_b7ca_11ea_a5ae_98af6561d72frow9_col3\" class=\"data row9 col3\" >1</td>\n",
       "                        <td id=\"T_73488830_b7ca_11ea_a5ae_98af6561d72frow9_col4\" class=\"data row9 col4\" >1</td>\n",
       "            </tr>\n",
       "    </tbody></table>"
      ],
      "text/plain": [
       "<pandas.io.formats.style.Styler at 0x23b9ae26c18>"
      ]
     },
     "execution_count": 32,
     "metadata": {},
     "output_type": "execute_result"
    }
   ],
   "source": [
    "# showing final dataframe\n",
    "model_df = pd.DataFrame({'Model_Name': model_names,\n",
    "                         'F1_Score': f1_list,\n",
    "                         'Accuracy_Score': accuracy_list,\n",
    "                         'Precision_Score':precision_list,\n",
    "                         'Recall_Score':recall_list})\n",
    "model_df.style.background_gradient(cmap='Blues')"
   ]
  },
  {
   "cell_type": "markdown",
   "metadata": {},
   "source": [
    "# Conclusion"
   ]
  },
  {
   "cell_type": "markdown",
   "metadata": {},
   "source": [
    "As we can see from this model performance summary, the best performing models by far were the XGboost and the RNN. There were a number of models that were attempted or iterated over - for example, I tuned the RNN with both GRU and LSTM neurons a number of times seeking better results, ensuring that the model was not overfit. It is surprising that most of my models achieved such high precision and abysmal recall, so they did not predict false positives with a high tradeoff of many false negatives."
   ]
  }
 ],
 "metadata": {
  "kernelspec": {
   "display_name": "Python [conda env:learn-env] *",
   "language": "python",
   "name": "conda-env-learn-env-py"
  },
  "language_info": {
   "codemirror_mode": {
    "name": "ipython",
    "version": 3
   },
   "file_extension": ".py",
   "mimetype": "text/x-python",
   "name": "python",
   "nbconvert_exporter": "python",
   "pygments_lexer": "ipython3",
   "version": "3.6.9"
  },
  "toc": {
   "base_numbering": 1,
   "nav_menu": {},
   "number_sections": true,
   "sideBar": true,
   "skip_h1_title": false,
   "title_cell": "Table of Contents",
   "title_sidebar": "Contents",
   "toc_cell": false,
   "toc_position": {
    "height": "calc(100% - 180px)",
    "left": "10px",
    "top": "150px",
    "width": "224.625px"
   },
   "toc_section_display": true,
   "toc_window_display": true
  },
  "varInspector": {
   "cols": {
    "lenName": 16,
    "lenType": 16,
    "lenVar": 40
   },
   "kernels_config": {
    "python": {
     "delete_cmd_postfix": "",
     "delete_cmd_prefix": "del ",
     "library": "var_list.py",
     "varRefreshCmd": "print(var_dic_list())"
    },
    "r": {
     "delete_cmd_postfix": ") ",
     "delete_cmd_prefix": "rm(",
     "library": "var_list.r",
     "varRefreshCmd": "cat(var_dic_list()) "
    }
   },
   "types_to_exclude": [
    "module",
    "function",
    "builtin_function_or_method",
    "instance",
    "_Feature"
   ],
   "window_display": false
  }
 },
 "nbformat": 4,
 "nbformat_minor": 4
}
